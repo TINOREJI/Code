{
 "cells": [
  {
   "cell_type": "code",
   "execution_count": 39,
   "id": "f1658eaa",
   "metadata": {},
   "outputs": [],
   "source": [
    "import numpy as np\n",
    "import copy"
   ]
  },
  {
   "cell_type": "code",
   "execution_count": 2,
   "id": "26118b06",
   "metadata": {},
   "outputs": [],
   "source": [
    "threshold=0.00001\n",
    "base=0.8"
   ]
  },
  {
   "cell_type": "code",
   "execution_count": 37,
   "id": "8149e4ec",
   "metadata": {},
   "outputs": [],
   "source": [
    "A=np.array([[1,1,0],[1,0,1],[0,1,0]])"
   ]
  },
  {
   "cell_type": "code",
   "execution_count": 30,
   "id": "4f4130ad",
   "metadata": {},
   "outputs": [
    {
     "data": {
      "text/plain": [
       "[2, 2, 1]"
      ]
     },
     "execution_count": 30,
     "metadata": {},
     "output_type": "execute_result"
    }
   ],
   "source": [
    "s=[]\n",
    "for i in range(len(A)):\n",
    "    s.append(np.sum(A[:,i]))\n",
    "s"
   ]
  },
  {
   "cell_type": "code",
   "execution_count": 48,
   "id": "ea31da87",
   "metadata": {},
   "outputs": [
    {
     "name": "stdout",
     "output_type": "stream",
     "text": [
      "[[1 1 0]\n",
      " [1 0 1]\n",
      " [0 1 0]]\n",
      "[[1. 1. 0.]\n",
      " [1. 0. 1.]\n",
      " [0. 1. 0.]]\n"
     ]
    }
   ],
   "source": [
    "M = copy.deepcopy(A).astype(float)\n",
    "print(A)\n",
    "print(M)"
   ]
  },
  {
   "cell_type": "code",
   "execution_count": 49,
   "id": "bdc70f74",
   "metadata": {},
   "outputs": [
    {
     "name": "stdout",
     "output_type": "stream",
     "text": [
      "[[1 1 0]\n",
      " [1 0 1]\n",
      " [0 1 0]]\n",
      "[[0.5 0.5 0. ]\n",
      " [0.5 0.  1. ]\n",
      " [0.  0.5 0. ]]\n"
     ]
    }
   ],
   "source": [
    "for i in range(0,len(A)):\n",
    "    M[:,i]=M[:,i]/s[i]\n",
    "print(A)\n",
    "print(M)"
   ]
  },
  {
   "cell_type": "code",
   "execution_count": 55,
   "id": "3321dc28",
   "metadata": {},
   "outputs": [
    {
     "data": {
      "text/plain": [
       "array([0.33333333, 0.33333333, 0.33333333])"
      ]
     },
     "execution_count": 55,
     "metadata": {},
     "output_type": "execute_result"
    }
   ],
   "source": [
    "rank_vector = np.ones(len(M)) / len(M)\n",
    "rank_vector"
   ]
  },
  {
   "cell_type": "code",
   "execution_count": 57,
   "id": "92555657",
   "metadata": {},
   "outputs": [
    {
     "data": {
      "text/plain": [
       "array([0.06666667, 0.06666667, 0.06666667])"
      ]
     },
     "execution_count": 57,
     "metadata": {},
     "output_type": "execute_result"
    }
   ],
   "source": [
    "c=(1-base)*rank_vector\n",
    "c"
   ]
  },
  {
   "cell_type": "code",
   "execution_count": 58,
   "id": "cca07265",
   "metadata": {},
   "outputs": [
    {
     "data": {
      "text/plain": [
       "array([0.33333333, 0.33333333, 0.33333333])"
      ]
     },
     "execution_count": 58,
     "metadata": {},
     "output_type": "execute_result"
    }
   ],
   "source": [
    "r_prev=rank_vector\n",
    "r_prev"
   ]
  },
  {
   "cell_type": "code",
   "execution_count": 62,
   "id": "f54d1a71",
   "metadata": {},
   "outputs": [
    {
     "data": {
      "text/plain": [
       "array([0.3763434 , 0.39785125, 0.22580535])"
      ]
     },
     "execution_count": 62,
     "metadata": {},
     "output_type": "execute_result"
    }
   ],
   "source": [
    "for i in range(1,1001):\n",
    "    rank_vector=base*np.matmul(M,r_prev)+c\n",
    "    diff=np.sum(abs(r_prev-rank_vector))\n",
    "    if(diff<threshold):\n",
    "        break\n",
    "    r_prev=rank_vector\n",
    "rank_vector"
   ]
  }
 ],
 "metadata": {
  "kernelspec": {
   "display_name": "base",
   "language": "python",
   "name": "python3"
  },
  "language_info": {
   "codemirror_mode": {
    "name": "ipython",
    "version": 3
   },
   "file_extension": ".py",
   "mimetype": "text/x-python",
   "name": "python",
   "nbconvert_exporter": "python",
   "pygments_lexer": "ipython3",
   "version": "3.12.7"
  }
 },
 "nbformat": 4,
 "nbformat_minor": 5
}
